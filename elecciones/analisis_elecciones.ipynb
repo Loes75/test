{
 "metadata": {
  "language_info": {
   "codemirror_mode": {
    "name": "ipython",
    "version": 3
   },
   "file_extension": ".py",
   "mimetype": "text/x-python",
   "name": "python",
   "nbconvert_exporter": "python",
   "pygments_lexer": "ipython3",
   "version": "3.7.6-final"
  },
  "orig_nbformat": 2,
  "kernelspec": {
   "name": "python3",
   "display_name": "Python 3",
   "language": "python"
  }
 },
 "nbformat": 4,
 "nbformat_minor": 2,
 "cells": [
  {
   "cell_type": "code",
   "execution_count": null,
   "metadata": {},
   "outputs": [],
   "source": [
    "import pandas as pd\n",
    "import numpy as np\n",
    "#Archivo con los resultados de las elecciones\n",
    "df=pd.read_excel('resultados_elecciones.xlsx', index_col=0)"
   ]
  },
  {
   "cell_type": "code",
   "execution_count": null,
   "metadata": {},
   "outputs": [],
   "source": [
    "df.isna().sum()  #Validamos si hay valores nulos que deban limpiarse"
   ]
  },
  {
   "cell_type": "code",
   "execution_count": 2,
   "metadata": {},
   "outputs": [],
   "source": [
    "#Agrupamos por candidato y sumamos los votos.Lo organizamos de forma descendiente y de esta forma obtener de primero el candidato con más votos\n",
    "votos = df.groupby(['candidato'])['votos'].sum().sort_values(ascending=False)"
   ]
  },
  {
   "cell_type": "code",
   "execution_count": null,
   "metadata": {},
   "outputs": [],
   "source": [
    "#Agrupamos por partido y sumamos los votos.Lo organizamos de forma descendiente y de esta forma obtener de primero el partido que obtubo más votos\n",
    "partido = df.groupby(['partido'])['votos'].sum().sort_values(ascending=False)"
   ]
  },
  {
   "cell_type": "code",
   "execution_count": null,
   "metadata": {},
   "outputs": [],
   "source": [
    "#Agrupamos por puesto y candidato y sumamos los votos de cada mesa\n",
    "puesto = df.groupby(['puesto','candidato'])['votos'].sum().sort_values(ascending=False)\n",
    "#Agrupamos para saber cuantos votos tuvo cada mesa de cada puesto de votacion\n",
    "mesas = df.groupby(['puesto','mesa'])['votos'].sum().sort_values(ascending=False)"
   ]
  },
  {
   "cell_type": "code",
   "execution_count": null,
   "metadata": {},
   "outputs": [],
   "source": [
    "#De esta forma podemos ver toda la información agrupada por departamento y candidatos\n",
    "departamento = df.groupby(['departamento','candidato']).sum()"
   ]
  },
  {
   "cell_type": "code",
   "execution_count": null,
   "metadata": {},
   "outputs": [],
   "source": [
    "#Para exportar a xlsx la información deseada, podemos usar el sgt metodo:\n",
    "departamento.to_excel('info.xls')\n",
    "#O si deseamos exportar todo pero en diferentes hojas podemos realizar lo sgt:\n",
    "with pd.ExcelWriter('info.xlsx') as writer:  \n",
    "    candidato.to_excel(writer, sheet_name='Candidatos')\n",
    "    departamento.to_excel(writer, sheet_name='Departamentos')\n",
    "    partido.to_excel(writer, sheet_name='Partidos')\n",
    "    puesto.to_excel(writer, sheet_name='Puesto')\n",
    "    mesas.to_excel(writer, sheet_name='Mesas')\n"
   ]
  },
  {
   "cell_type": "code",
   "execution_count": null,
   "metadata": {},
   "outputs": [],
   "source": [
    "#Otra información relevante que podemos analizar podría ser:\n",
    "#cantidad de votos en el país\n",
    "totalVotos=df['votos'].sum()\n",
    "#Top 5 de departamentos donde el ganador obtuvo más votos\n",
    "nombreKey=df.groupby(['candidato'])['votos'].sum().sort_values(ascending=False).head(1).to_dict().keys()\n",
    "ganador = list(nombreKey)[0]\n",
    "df[df.candidato == ganador].sort_values(by='votos', ascending=False)[:5]\n",
    "#Departamento donde el ganador obtuvo menos votos\n",
    "df[df.candidato == ganador].sort_values(by='votos', ascending=False).tail(1)"
   ]
  }
 ]
}